{
 "cells": [
  {
   "cell_type": "code",
   "execution_count": 1,
   "id": "9016c654",
   "metadata": {},
   "outputs": [],
   "source": [
    "import numpy as np\n",
    "import pandas as pd\n",
    "from matplotlib.image import imread\n",
    "import matplotlib.pyplot as plt"
   ]
  },
  {
   "cell_type": "code",
   "execution_count": 30,
   "id": "6e2348c2",
   "metadata": {},
   "outputs": [],
   "source": [
    "random_int = np.random.randint(10, size=(5,3))\n",
    "ones = np.ones(3)"
   ]
  },
  {
   "cell_type": "code",
   "execution_count": 3,
   "id": "146e074a",
   "metadata": {},
   "outputs": [
    {
     "data": {
      "text/plain": [
       "array([[9, 3, 6],\n",
       "       [2, 6, 7],\n",
       "       [7, 5, 5],\n",
       "       [1, 5, 4],\n",
       "       [8, 3, 4]])"
      ]
     },
     "execution_count": 3,
     "metadata": {},
     "output_type": "execute_result"
    }
   ],
   "source": [
    "random_int"
   ]
  },
  {
   "cell_type": "code",
   "execution_count": 4,
   "id": "0d6ab8ec",
   "metadata": {},
   "outputs": [
    {
     "data": {
      "text/plain": [
       "array([1, 2, 3, 4, 5, 6, 7, 8, 9])"
      ]
     },
     "execution_count": 4,
     "metadata": {},
     "output_type": "execute_result"
    }
   ],
   "source": [
    "np.unique(random_int)"
   ]
  },
  {
   "cell_type": "code",
   "execution_count": 45,
   "id": "cd4fad4a",
   "metadata": {},
   "outputs": [],
   "source": [
    "a1 = np.array([1,2,3])\n",
    "a2 = np.random.randint(10, size=(2,3))"
   ]
  },
  {
   "cell_type": "code",
   "execution_count": 6,
   "id": "27e8d213",
   "metadata": {},
   "outputs": [
    {
     "data": {
      "text/plain": [
       "array([1, 2, 3])"
      ]
     },
     "execution_count": 6,
     "metadata": {},
     "output_type": "execute_result"
    }
   ],
   "source": [
    "a1"
   ]
  },
  {
   "cell_type": "code",
   "execution_count": 9,
   "id": "f7e399a4",
   "metadata": {},
   "outputs": [],
   "source": [
    "a2 = np.array([\n",
    "     [1,2,3],\n",
    "     [4,5,6],\n",
    "     [6,7,8]\n",
    "])"
   ]
  },
  {
   "cell_type": "code",
   "execution_count": 10,
   "id": "7ea0035d",
   "metadata": {},
   "outputs": [
    {
     "data": {
      "text/plain": [
       "array([[1, 2, 3],\n",
       "       [4, 5, 6],\n",
       "       [6, 7, 8]])"
      ]
     },
     "execution_count": 10,
     "metadata": {},
     "output_type": "execute_result"
    }
   ],
   "source": [
    "a2"
   ]
  },
  {
   "cell_type": "code",
   "execution_count": 11,
   "id": "0d5b83a6",
   "metadata": {},
   "outputs": [
    {
     "data": {
      "text/plain": [
       "1"
      ]
     },
     "execution_count": 11,
     "metadata": {},
     "output_type": "execute_result"
    }
   ],
   "source": [
    "a1[0]"
   ]
  },
  {
   "cell_type": "code",
   "execution_count": 12,
   "id": "5661d32b",
   "metadata": {},
   "outputs": [
    {
     "data": {
      "text/plain": [
       "2"
      ]
     },
     "execution_count": 12,
     "metadata": {},
     "output_type": "execute_result"
    }
   ],
   "source": [
    "a1[1]"
   ]
  },
  {
   "cell_type": "code",
   "execution_count": 13,
   "id": "da25a79e",
   "metadata": {},
   "outputs": [
    {
     "data": {
      "text/plain": [
       "array([[1, 2, 3],\n",
       "       [4, 5, 6],\n",
       "       [6, 7, 8]])"
      ]
     },
     "execution_count": 13,
     "metadata": {},
     "output_type": "execute_result"
    }
   ],
   "source": [
    "a2"
   ]
  },
  {
   "cell_type": "code",
   "execution_count": 14,
   "id": "7585e3d7",
   "metadata": {},
   "outputs": [
    {
     "data": {
      "text/plain": [
       "array([1, 2, 3])"
      ]
     },
     "execution_count": 14,
     "metadata": {},
     "output_type": "execute_result"
    }
   ],
   "source": [
    "a2[0]"
   ]
  },
  {
   "cell_type": "code",
   "execution_count": 15,
   "id": "80dbd982",
   "metadata": {},
   "outputs": [
    {
     "data": {
      "text/plain": [
       "array([4, 5, 6])"
      ]
     },
     "execution_count": 15,
     "metadata": {},
     "output_type": "execute_result"
    }
   ],
   "source": [
    "a2[1]"
   ]
  },
  {
   "cell_type": "code",
   "execution_count": 16,
   "id": "4c1d430e",
   "metadata": {},
   "outputs": [
    {
     "data": {
      "text/plain": [
       "array([6, 7, 8])"
      ]
     },
     "execution_count": 16,
     "metadata": {},
     "output_type": "execute_result"
    }
   ],
   "source": [
    "a2[2]"
   ]
  },
  {
   "cell_type": "code",
   "execution_count": 17,
   "id": "2d884a3d",
   "metadata": {},
   "outputs": [
    {
     "data": {
      "text/plain": [
       "2"
      ]
     },
     "execution_count": 17,
     "metadata": {},
     "output_type": "execute_result"
    }
   ],
   "source": [
    "a2[0][1]"
   ]
  },
  {
   "cell_type": "code",
   "execution_count": 18,
   "id": "aaa0f4c3",
   "metadata": {},
   "outputs": [],
   "source": [
    "four_dim = np.random.randint(10, size=(2,3,4,5))"
   ]
  },
  {
   "cell_type": "code",
   "execution_count": 19,
   "id": "3f56d1c2",
   "metadata": {},
   "outputs": [
    {
     "data": {
      "text/plain": [
       "array([[[[6, 9, 1, 5, 4],\n",
       "         [5, 1, 0, 4, 8],\n",
       "         [0, 5, 3, 2, 5],\n",
       "         [3, 2, 7, 7, 9]],\n",
       "\n",
       "        [[6, 9, 7, 2, 7],\n",
       "         [9, 7, 4, 4, 1],\n",
       "         [3, 2, 8, 8, 0],\n",
       "         [3, 1, 7, 4, 9]],\n",
       "\n",
       "        [[5, 9, 3, 2, 4],\n",
       "         [5, 7, 1, 1, 8],\n",
       "         [1, 9, 6, 4, 1],\n",
       "         [2, 1, 8, 9, 7]]],\n",
       "\n",
       "\n",
       "       [[[6, 4, 1, 7, 9],\n",
       "         [7, 0, 3, 0, 9],\n",
       "         [1, 6, 7, 2, 6],\n",
       "         [4, 0, 8, 3, 8]],\n",
       "\n",
       "        [[0, 1, 5, 6, 9],\n",
       "         [5, 7, 1, 1, 0],\n",
       "         [0, 3, 3, 0, 8],\n",
       "         [2, 5, 6, 7, 2]],\n",
       "\n",
       "        [[2, 0, 3, 9, 7],\n",
       "         [6, 0, 0, 4, 9],\n",
       "         [4, 7, 9, 4, 6],\n",
       "         [4, 6, 2, 0, 8]]]])"
      ]
     },
     "execution_count": 19,
     "metadata": {},
     "output_type": "execute_result"
    }
   ],
   "source": [
    "four_dim"
   ]
  },
  {
   "cell_type": "code",
   "execution_count": 20,
   "id": "59590eea",
   "metadata": {},
   "outputs": [
    {
     "data": {
      "text/plain": [
       "((2, 3, 4, 5), 4)"
      ]
     },
     "execution_count": 20,
     "metadata": {},
     "output_type": "execute_result"
    }
   ],
   "source": [
    "four_dim.shape, four_dim.ndim"
   ]
  },
  {
   "cell_type": "code",
   "execution_count": 28,
   "id": "01e72fbe",
   "metadata": {},
   "outputs": [
    {
     "data": {
      "text/plain": [
       "array([[[[6, 9],\n",
       "         [5, 1],\n",
       "         [0, 5],\n",
       "         [3, 2]],\n",
       "\n",
       "        [[6, 9],\n",
       "         [9, 7],\n",
       "         [3, 2],\n",
       "         [3, 1]],\n",
       "\n",
       "        [[5, 9],\n",
       "         [5, 7],\n",
       "         [1, 9],\n",
       "         [2, 1]]],\n",
       "\n",
       "\n",
       "       [[[6, 4],\n",
       "         [7, 0],\n",
       "         [1, 6],\n",
       "         [4, 0]],\n",
       "\n",
       "        [[0, 1],\n",
       "         [5, 7],\n",
       "         [0, 3],\n",
       "         [2, 5]],\n",
       "\n",
       "        [[2, 0],\n",
       "         [6, 0],\n",
       "         [4, 7],\n",
       "         [4, 6]]]])"
      ]
     },
     "execution_count": 28,
     "metadata": {},
     "output_type": "execute_result"
    }
   ],
   "source": [
    "four_dim[:, :, :,:2]"
   ]
  },
  {
   "cell_type": "markdown",
   "id": "3e3b560f",
   "metadata": {},
   "source": [
    "# Manipulate and Compare different Arrays"
   ]
  },
  {
   "cell_type": "code",
   "execution_count": 29,
   "id": "6efe1ead",
   "metadata": {},
   "outputs": [
    {
     "data": {
      "text/plain": [
       "array([1, 2, 3])"
      ]
     },
     "execution_count": 29,
     "metadata": {},
     "output_type": "execute_result"
    }
   ],
   "source": [
    "a1"
   ]
  },
  {
   "cell_type": "code",
   "execution_count": 31,
   "id": "6d0e8243",
   "metadata": {},
   "outputs": [
    {
     "data": {
      "text/plain": [
       "array([1., 1., 1.])"
      ]
     },
     "execution_count": 31,
     "metadata": {},
     "output_type": "execute_result"
    }
   ],
   "source": [
    "ones"
   ]
  },
  {
   "cell_type": "code",
   "execution_count": 32,
   "id": "c47291e3",
   "metadata": {},
   "outputs": [
    {
     "data": {
      "text/plain": [
       "array([2., 3., 4.])"
      ]
     },
     "execution_count": 32,
     "metadata": {},
     "output_type": "execute_result"
    }
   ],
   "source": [
    "a1+ones"
   ]
  },
  {
   "cell_type": "code",
   "execution_count": 33,
   "id": "a431eea9",
   "metadata": {},
   "outputs": [
    {
     "data": {
      "text/plain": [
       "array([1., 2., 3.])"
      ]
     },
     "execution_count": 33,
     "metadata": {},
     "output_type": "execute_result"
    }
   ],
   "source": [
    "a1/ones"
   ]
  },
  {
   "cell_type": "code",
   "execution_count": 41,
   "id": "463b7d4c",
   "metadata": {},
   "outputs": [],
   "source": [
    "#remove decimels and give floor values\n",
    "div = a1//a2"
   ]
  },
  {
   "cell_type": "code",
   "execution_count": 40,
   "id": "427892c0",
   "metadata": {},
   "outputs": [
    {
     "data": {
      "text/plain": [
       "array([[0, 0, 0],\n",
       "       [1, 0, 1]])"
      ]
     },
     "execution_count": 40,
     "metadata": {},
     "output_type": "execute_result"
    }
   ],
   "source": [
    "div"
   ]
  },
  {
   "cell_type": "code",
   "execution_count": 42,
   "id": "eade3b85",
   "metadata": {},
   "outputs": [],
   "source": [
    "reminders = a1 % 2"
   ]
  },
  {
   "cell_type": "code",
   "execution_count": 43,
   "id": "7650064e",
   "metadata": {},
   "outputs": [
    {
     "data": {
      "text/plain": [
       "array([1, 0, 1], dtype=int32)"
      ]
     },
     "execution_count": 43,
     "metadata": {},
     "output_type": "execute_result"
    }
   ],
   "source": [
    "reminders"
   ]
  },
  {
   "cell_type": "code",
   "execution_count": 46,
   "id": "cda8eba1",
   "metadata": {},
   "outputs": [],
   "source": [
    "a4 = np.random.randint(20, size=(2,5))"
   ]
  },
  {
   "cell_type": "code",
   "execution_count": 47,
   "id": "246aa6ab",
   "metadata": {},
   "outputs": [
    {
     "data": {
      "text/plain": [
       "array([[ 4, 11, 11,  9, 12],\n",
       "       [ 7,  4, 17, 12,  7]])"
      ]
     },
     "execution_count": 47,
     "metadata": {},
     "output_type": "execute_result"
    }
   ],
   "source": [
    "a4"
   ]
  },
  {
   "cell_type": "code",
   "execution_count": 48,
   "id": "05ef4e1b",
   "metadata": {},
   "outputs": [
    {
     "data": {
      "text/plain": [
       "array([[10. , 27.5, 27.5, 22.5, 30. ],\n",
       "       [17.5, 10. , 42.5, 30. , 17.5]])"
      ]
     },
     "execution_count": 48,
     "metadata": {},
     "output_type": "execute_result"
    }
   ],
   "source": [
    "a4*2.5"
   ]
  },
  {
   "cell_type": "code",
   "execution_count": 58,
   "id": "f415ba08",
   "metadata": {},
   "outputs": [],
   "source": [
    "big_array = np.random.random(10000)"
   ]
  },
  {
   "cell_type": "code",
   "execution_count": 59,
   "id": "38b4f5d3",
   "metadata": {},
   "outputs": [
    {
     "data": {
      "text/plain": [
       "array([0.65335187, 0.78632233, 0.34431683, ..., 0.218677  , 0.11911347,\n",
       "       0.64768092])"
      ]
     },
     "execution_count": 59,
     "metadata": {},
     "output_type": "execute_result"
    }
   ],
   "source": [
    "big_array"
   ]
  },
  {
   "cell_type": "code",
   "execution_count": 60,
   "id": "40cebaa1",
   "metadata": {},
   "outputs": [
    {
     "data": {
      "text/plain": [
       "array([0.65335187, 0.78632233, 0.34431683, 0.69297253, 0.64528377,\n",
       "       0.31468619, 0.55546731, 0.42085202, 0.68614155, 0.11559917])"
      ]
     },
     "execution_count": 60,
     "metadata": {},
     "output_type": "execute_result"
    }
   ],
   "source": [
    "big_array[:10]"
   ]
  },
  {
   "cell_type": "code",
   "execution_count": 61,
   "id": "75e5a505",
   "metadata": {},
   "outputs": [
    {
     "name": "stdout",
     "output_type": "stream",
     "text": [
      "3.67 ms ± 578 µs per loop (mean ± std. dev. of 7 runs, 100 loops each)\n",
      "30.2 µs ± 615 ns per loop (mean ± std. dev. of 7 runs, 10,000 loops each)\n"
     ]
    }
   ],
   "source": [
    "%timeit sum(big_array)\n",
    "%timeit np.sum(big_array)"
   ]
  },
  {
   "cell_type": "code",
   "execution_count": 62,
   "id": "488dd5d0",
   "metadata": {},
   "outputs": [
    {
     "data": {
      "text/plain": [
       "(3,)"
      ]
     },
     "execution_count": 62,
     "metadata": {},
     "output_type": "execute_result"
    }
   ],
   "source": [
    "a1.shape"
   ]
  },
  {
   "cell_type": "code",
   "execution_count": 75,
   "id": "620d5206",
   "metadata": {},
   "outputs": [
    {
     "data": {
      "text/plain": [
       "array([[6, 1, 6],\n",
       "       [9, 9, 8]])"
      ]
     },
     "execution_count": 75,
     "metadata": {},
     "output_type": "execute_result"
    }
   ],
   "source": [
    "a2.shape\n",
    "a2"
   ]
  },
  {
   "cell_type": "code",
   "execution_count": 77,
   "id": "94fddbb8",
   "metadata": {},
   "outputs": [],
   "source": [
    "a12 = np.random.randint(1, 50, 12)"
   ]
  },
  {
   "cell_type": "code",
   "execution_count": 78,
   "id": "4f9ca2ea",
   "metadata": {},
   "outputs": [
    {
     "data": {
      "text/plain": [
       "array([34, 13, 25,  6, 15, 25, 28, 46,  5, 21, 18, 49])"
      ]
     },
     "execution_count": 78,
     "metadata": {},
     "output_type": "execute_result"
    }
   ],
   "source": [
    "a12"
   ]
  },
  {
   "cell_type": "code",
   "execution_count": 82,
   "id": "883198f1",
   "metadata": {},
   "outputs": [],
   "source": [
    "a12_reshape = a12.reshape(3,4)"
   ]
  },
  {
   "cell_type": "code",
   "execution_count": 83,
   "id": "a210b05b",
   "metadata": {},
   "outputs": [
    {
     "data": {
      "text/plain": [
       "array([[34, 13, 25,  6],\n",
       "       [15, 25, 28, 46],\n",
       "       [ 5, 21, 18, 49]])"
      ]
     },
     "execution_count": 83,
     "metadata": {},
     "output_type": "execute_result"
    }
   ],
   "source": [
    "a12_reshape"
   ]
  },
  {
   "cell_type": "code",
   "execution_count": 85,
   "id": "261eda5d",
   "metadata": {},
   "outputs": [],
   "source": [
    "a12_reshape2 = a12_reshape.reshape(2,6)"
   ]
  },
  {
   "cell_type": "code",
   "execution_count": 86,
   "id": "842d9475",
   "metadata": {},
   "outputs": [
    {
     "data": {
      "text/plain": [
       "array([[34, 13, 25,  6, 15, 25],\n",
       "       [28, 46,  5, 21, 18, 49]])"
      ]
     },
     "execution_count": 86,
     "metadata": {},
     "output_type": "execute_result"
    }
   ],
   "source": [
    "a12_reshape2"
   ]
  },
  {
   "cell_type": "code",
   "execution_count": 87,
   "id": "a003f2ee",
   "metadata": {},
   "outputs": [],
   "source": [
    "a12_reshape2_reverse = a12_reshape2.T"
   ]
  },
  {
   "cell_type": "code",
   "execution_count": 88,
   "id": "346a1caf",
   "metadata": {},
   "outputs": [
    {
     "data": {
      "text/plain": [
       "array([[34, 28],\n",
       "       [13, 46],\n",
       "       [25,  5],\n",
       "       [ 6, 21],\n",
       "       [15, 18],\n",
       "       [25, 49]])"
      ]
     },
     "execution_count": 88,
     "metadata": {},
     "output_type": "execute_result"
    }
   ],
   "source": [
    "a12_reshape2_reverse"
   ]
  },
  {
   "cell_type": "markdown",
   "id": "3f29dcfb",
   "metadata": {},
   "source": [
    "# Dot Product"
   ]
  },
  {
   "cell_type": "code",
   "execution_count": 89,
   "id": "0209373f",
   "metadata": {},
   "outputs": [],
   "source": [
    "mat1 = np.random.randint(10, size=(5,3))"
   ]
  },
  {
   "cell_type": "code",
   "execution_count": 90,
   "id": "7adb362f",
   "metadata": {},
   "outputs": [],
   "source": [
    "mat2 = np.random.randint(10, size=(5,3))"
   ]
  },
  {
   "cell_type": "code",
   "execution_count": 91,
   "id": "9f324599",
   "metadata": {},
   "outputs": [
    {
     "data": {
      "text/plain": [
       "array([[8, 6, 2],\n",
       "       [4, 1, 3],\n",
       "       [7, 8, 8],\n",
       "       [3, 2, 7],\n",
       "       [0, 5, 2]])"
      ]
     },
     "execution_count": 91,
     "metadata": {},
     "output_type": "execute_result"
    }
   ],
   "source": [
    "mat1"
   ]
  },
  {
   "cell_type": "code",
   "execution_count": 93,
   "id": "ccd0b186",
   "metadata": {},
   "outputs": [
    {
     "data": {
      "text/plain": [
       "array([[ 0,  0, 12],\n",
       "       [36,  0,  9],\n",
       "       [49, 48, 24],\n",
       "       [ 6,  4, 21],\n",
       "       [ 0, 30, 16]])"
      ]
     },
     "execution_count": 93,
     "metadata": {},
     "output_type": "execute_result"
    }
   ],
   "source": [
    "# elementwise multiplication its called Hadamard product\n",
    "mat1 * mat2"
   ]
  },
  {
   "cell_type": "code",
   "execution_count": 94,
   "id": "479641f2",
   "metadata": {},
   "outputs": [
    {
     "data": {
      "text/plain": [
       "((5, 3), (5, 3))"
      ]
     },
     "execution_count": 94,
     "metadata": {},
     "output_type": "execute_result"
    }
   ],
   "source": [
    "mat1.shape, mat2.shape"
   ]
  },
  {
   "cell_type": "code",
   "execution_count": 95,
   "id": "262437c9",
   "metadata": {},
   "outputs": [
    {
     "data": {
      "text/plain": [
       "array([[8, 4, 7, 3, 0],\n",
       "       [6, 1, 8, 2, 5],\n",
       "       [2, 3, 8, 7, 2]])"
      ]
     },
     "execution_count": 95,
     "metadata": {},
     "output_type": "execute_result"
    }
   ],
   "source": [
    "mat1.T"
   ]
  },
  {
   "cell_type": "code",
   "execution_count": 105,
   "id": "82ed6caf",
   "metadata": {},
   "outputs": [
    {
     "data": {
      "text/plain": [
       "((3, 5), (5, 3))"
      ]
     },
     "execution_count": 105,
     "metadata": {},
     "output_type": "execute_result"
    }
   ],
   "source": [
    "mat1.T.shape, mat2.shape"
   ]
  },
  {
   "cell_type": "code",
   "execution_count": 108,
   "id": "310ef73b",
   "metadata": {},
   "outputs": [],
   "source": [
    "mat3 = np.dot(mat1, mat2.T)"
   ]
  },
  {
   "cell_type": "code",
   "execution_count": 109,
   "id": "4c375165",
   "metadata": {},
   "outputs": [
    {
     "data": {
      "text/plain": [
       "array([[ 12,  78,  98,  34, 116],\n",
       "       [ 18,  45,  43,  19,  62],\n",
       "       [ 48,  87, 121,  54, 168],\n",
       "       [ 42,  48,  54,  31,  92],\n",
       "       [ 12,   6,  36,  16,  46]])"
      ]
     },
     "execution_count": 109,
     "metadata": {},
     "output_type": "execute_result"
    }
   ],
   "source": [
    "mat3"
   ]
  },
  {
   "cell_type": "markdown",
   "id": "69e2deb9",
   "metadata": {},
   "source": [
    "# Nut Butter Sales Example Practical"
   ]
  },
  {
   "cell_type": "code",
   "execution_count": 110,
   "id": "302972bf",
   "metadata": {},
   "outputs": [],
   "source": [
    "sales_amounts = np.random.randint(20, size=(5,3))"
   ]
  },
  {
   "cell_type": "code",
   "execution_count": 111,
   "id": "86279852",
   "metadata": {},
   "outputs": [
    {
     "data": {
      "text/plain": [
       "array([[ 3,  5,  0],\n",
       "       [ 7, 14, 16],\n",
       "       [ 8,  6,  8],\n",
       "       [19,  6, 15],\n",
       "       [13,  2,  5]])"
      ]
     },
     "execution_count": 111,
     "metadata": {},
     "output_type": "execute_result"
    }
   ],
   "source": [
    "sales_amounts"
   ]
  },
  {
   "cell_type": "code",
   "execution_count": 119,
   "id": "d1687b6e",
   "metadata": {},
   "outputs": [
    {
     "data": {
      "text/html": [
       "<div>\n",
       "<style scoped>\n",
       "    .dataframe tbody tr th:only-of-type {\n",
       "        vertical-align: middle;\n",
       "    }\n",
       "\n",
       "    .dataframe tbody tr th {\n",
       "        vertical-align: top;\n",
       "    }\n",
       "\n",
       "    .dataframe thead th {\n",
       "        text-align: right;\n",
       "    }\n",
       "</style>\n",
       "<table border=\"1\" class=\"dataframe\">\n",
       "  <thead>\n",
       "    <tr style=\"text-align: right;\">\n",
       "      <th></th>\n",
       "      <th>Nuts</th>\n",
       "      <th>Peanet</th>\n",
       "      <th>Butter</th>\n",
       "    </tr>\n",
       "  </thead>\n",
       "  <tbody>\n",
       "    <tr>\n",
       "      <th>Mon</th>\n",
       "      <td>3</td>\n",
       "      <td>5</td>\n",
       "      <td>0</td>\n",
       "    </tr>\n",
       "    <tr>\n",
       "      <th>Tue</th>\n",
       "      <td>7</td>\n",
       "      <td>14</td>\n",
       "      <td>16</td>\n",
       "    </tr>\n",
       "    <tr>\n",
       "      <th>Wed</th>\n",
       "      <td>8</td>\n",
       "      <td>6</td>\n",
       "      <td>8</td>\n",
       "    </tr>\n",
       "    <tr>\n",
       "      <th>Thu</th>\n",
       "      <td>19</td>\n",
       "      <td>6</td>\n",
       "      <td>15</td>\n",
       "    </tr>\n",
       "    <tr>\n",
       "      <th>Fri</th>\n",
       "      <td>13</td>\n",
       "      <td>2</td>\n",
       "      <td>5</td>\n",
       "    </tr>\n",
       "  </tbody>\n",
       "</table>\n",
       "</div>"
      ],
      "text/plain": [
       "     Nuts  Peanet  Butter\n",
       "Mon     3       5       0\n",
       "Tue     7      14      16\n",
       "Wed     8       6       8\n",
       "Thu    19       6      15\n",
       "Fri    13       2       5"
      ]
     },
     "execution_count": 119,
     "metadata": {},
     "output_type": "execute_result"
    }
   ],
   "source": [
    "weekly_sales = pd.DataFrame(sales_amounts, index=(\"Mon\", \"Tue\", \"Wed\", \"Thu\", \"Fri\"),\n",
    "                           columns=(\"Nuts\", \"Peanet\", \"Butter\"))\n",
    "weekly_sales"
   ]
  },
  {
   "cell_type": "code",
   "execution_count": 120,
   "id": "2532dbdb",
   "metadata": {},
   "outputs": [],
   "source": [
    "prices = np.array([10,8,2])"
   ]
  },
  {
   "cell_type": "code",
   "execution_count": 121,
   "id": "9f7e06e9",
   "metadata": {},
   "outputs": [
    {
     "data": {
      "text/plain": [
       "array([10,  8,  2])"
      ]
     },
     "execution_count": 121,
     "metadata": {},
     "output_type": "execute_result"
    }
   ],
   "source": [
    "prices"
   ]
  },
  {
   "cell_type": "code",
   "execution_count": 132,
   "id": "7656f7ad",
   "metadata": {},
   "outputs": [],
   "source": [
    "butter_prices = pd.DataFrame(prices, columns=[\"Price\"], index=[\"Nuts\", \"Peanet\", \"Butter\"])"
   ]
  },
  {
   "cell_type": "code",
   "execution_count": 133,
   "id": "3c078f46",
   "metadata": {},
   "outputs": [
    {
     "data": {
      "text/html": [
       "<div>\n",
       "<style scoped>\n",
       "    .dataframe tbody tr th:only-of-type {\n",
       "        vertical-align: middle;\n",
       "    }\n",
       "\n",
       "    .dataframe tbody tr th {\n",
       "        vertical-align: top;\n",
       "    }\n",
       "\n",
       "    .dataframe thead th {\n",
       "        text-align: right;\n",
       "    }\n",
       "</style>\n",
       "<table border=\"1\" class=\"dataframe\">\n",
       "  <thead>\n",
       "    <tr style=\"text-align: right;\">\n",
       "      <th></th>\n",
       "      <th>Price</th>\n",
       "    </tr>\n",
       "  </thead>\n",
       "  <tbody>\n",
       "    <tr>\n",
       "      <th>Nuts</th>\n",
       "      <td>10</td>\n",
       "    </tr>\n",
       "    <tr>\n",
       "      <th>Peanet</th>\n",
       "      <td>8</td>\n",
       "    </tr>\n",
       "    <tr>\n",
       "      <th>Butter</th>\n",
       "      <td>2</td>\n",
       "    </tr>\n",
       "  </tbody>\n",
       "</table>\n",
       "</div>"
      ],
      "text/plain": [
       "        Price\n",
       "Nuts       10\n",
       "Peanet      8\n",
       "Butter      2"
      ]
     },
     "execution_count": 133,
     "metadata": {},
     "output_type": "execute_result"
    }
   ],
   "source": [
    "butter_prices"
   ]
  },
  {
   "cell_type": "code",
   "execution_count": 139,
   "id": "287efc41",
   "metadata": {},
   "outputs": [
    {
     "data": {
      "text/plain": [
       "((5, 3), (3, 1))"
      ]
     },
     "execution_count": 139,
     "metadata": {},
     "output_type": "execute_result"
    }
   ],
   "source": [
    "weekly_sales.shape, butter_prices.shape"
   ]
  },
  {
   "cell_type": "code",
   "execution_count": 140,
   "id": "57ae58c3",
   "metadata": {},
   "outputs": [
    {
     "data": {
      "text/plain": [
       "(3, 5)"
      ]
     },
     "execution_count": 140,
     "metadata": {},
     "output_type": "execute_result"
    }
   ],
   "source": [
    "weekly_sales.T.shape"
   ]
  },
  {
   "cell_type": "code",
   "execution_count": 144,
   "id": "7f6d1297",
   "metadata": {},
   "outputs": [],
   "source": [
    "daily_sales = butter_prices.T.dot(weekly_sales.T)"
   ]
  },
  {
   "cell_type": "code",
   "execution_count": 146,
   "id": "d9415e90",
   "metadata": {},
   "outputs": [
    {
     "data": {
      "text/html": [
       "<div>\n",
       "<style scoped>\n",
       "    .dataframe tbody tr th:only-of-type {\n",
       "        vertical-align: middle;\n",
       "    }\n",
       "\n",
       "    .dataframe tbody tr th {\n",
       "        vertical-align: top;\n",
       "    }\n",
       "\n",
       "    .dataframe thead th {\n",
       "        text-align: right;\n",
       "    }\n",
       "</style>\n",
       "<table border=\"1\" class=\"dataframe\">\n",
       "  <thead>\n",
       "    <tr style=\"text-align: right;\">\n",
       "      <th></th>\n",
       "      <th>Mon</th>\n",
       "      <th>Tue</th>\n",
       "      <th>Wed</th>\n",
       "      <th>Thu</th>\n",
       "      <th>Fri</th>\n",
       "    </tr>\n",
       "  </thead>\n",
       "  <tbody>\n",
       "    <tr>\n",
       "      <th>Price</th>\n",
       "      <td>70</td>\n",
       "      <td>214</td>\n",
       "      <td>144</td>\n",
       "      <td>268</td>\n",
       "      <td>156</td>\n",
       "    </tr>\n",
       "  </tbody>\n",
       "</table>\n",
       "</div>"
      ],
      "text/plain": [
       "       Mon  Tue  Wed  Thu  Fri\n",
       "Price   70  214  144  268  156"
      ]
     },
     "execution_count": 146,
     "metadata": {},
     "output_type": "execute_result"
    }
   ],
   "source": [
    "daily_sales"
   ]
  },
  {
   "cell_type": "code",
   "execution_count": 147,
   "id": "12290ad3",
   "metadata": {},
   "outputs": [
    {
     "data": {
      "text/html": [
       "<div>\n",
       "<style scoped>\n",
       "    .dataframe tbody tr th:only-of-type {\n",
       "        vertical-align: middle;\n",
       "    }\n",
       "\n",
       "    .dataframe tbody tr th {\n",
       "        vertical-align: top;\n",
       "    }\n",
       "\n",
       "    .dataframe thead th {\n",
       "        text-align: right;\n",
       "    }\n",
       "</style>\n",
       "<table border=\"1\" class=\"dataframe\">\n",
       "  <thead>\n",
       "    <tr style=\"text-align: right;\">\n",
       "      <th></th>\n",
       "      <th>Nuts</th>\n",
       "      <th>Peanet</th>\n",
       "      <th>Butter</th>\n",
       "    </tr>\n",
       "  </thead>\n",
       "  <tbody>\n",
       "    <tr>\n",
       "      <th>Mon</th>\n",
       "      <td>3</td>\n",
       "      <td>5</td>\n",
       "      <td>0</td>\n",
       "    </tr>\n",
       "    <tr>\n",
       "      <th>Tue</th>\n",
       "      <td>7</td>\n",
       "      <td>14</td>\n",
       "      <td>16</td>\n",
       "    </tr>\n",
       "    <tr>\n",
       "      <th>Wed</th>\n",
       "      <td>8</td>\n",
       "      <td>6</td>\n",
       "      <td>8</td>\n",
       "    </tr>\n",
       "    <tr>\n",
       "      <th>Thu</th>\n",
       "      <td>19</td>\n",
       "      <td>6</td>\n",
       "      <td>15</td>\n",
       "    </tr>\n",
       "    <tr>\n",
       "      <th>Fri</th>\n",
       "      <td>13</td>\n",
       "      <td>2</td>\n",
       "      <td>5</td>\n",
       "    </tr>\n",
       "  </tbody>\n",
       "</table>\n",
       "</div>"
      ],
      "text/plain": [
       "     Nuts  Peanet  Butter\n",
       "Mon     3       5       0\n",
       "Tue     7      14      16\n",
       "Wed     8       6       8\n",
       "Thu    19       6      15\n",
       "Fri    13       2       5"
      ]
     },
     "execution_count": 147,
     "metadata": {},
     "output_type": "execute_result"
    }
   ],
   "source": [
    "weekly_sales"
   ]
  },
  {
   "cell_type": "code",
   "execution_count": 149,
   "id": "c856b6c8",
   "metadata": {},
   "outputs": [],
   "source": [
    "weekly_sales[\"Total ($)\"] = daily_sales.T"
   ]
  },
  {
   "cell_type": "code",
   "execution_count": 150,
   "id": "fac2a8d5",
   "metadata": {},
   "outputs": [
    {
     "data": {
      "text/html": [
       "<div>\n",
       "<style scoped>\n",
       "    .dataframe tbody tr th:only-of-type {\n",
       "        vertical-align: middle;\n",
       "    }\n",
       "\n",
       "    .dataframe tbody tr th {\n",
       "        vertical-align: top;\n",
       "    }\n",
       "\n",
       "    .dataframe thead th {\n",
       "        text-align: right;\n",
       "    }\n",
       "</style>\n",
       "<table border=\"1\" class=\"dataframe\">\n",
       "  <thead>\n",
       "    <tr style=\"text-align: right;\">\n",
       "      <th></th>\n",
       "      <th>Nuts</th>\n",
       "      <th>Peanet</th>\n",
       "      <th>Butter</th>\n",
       "      <th>Total ($)</th>\n",
       "    </tr>\n",
       "  </thead>\n",
       "  <tbody>\n",
       "    <tr>\n",
       "      <th>Mon</th>\n",
       "      <td>3</td>\n",
       "      <td>5</td>\n",
       "      <td>0</td>\n",
       "      <td>70</td>\n",
       "    </tr>\n",
       "    <tr>\n",
       "      <th>Tue</th>\n",
       "      <td>7</td>\n",
       "      <td>14</td>\n",
       "      <td>16</td>\n",
       "      <td>214</td>\n",
       "    </tr>\n",
       "    <tr>\n",
       "      <th>Wed</th>\n",
       "      <td>8</td>\n",
       "      <td>6</td>\n",
       "      <td>8</td>\n",
       "      <td>144</td>\n",
       "    </tr>\n",
       "    <tr>\n",
       "      <th>Thu</th>\n",
       "      <td>19</td>\n",
       "      <td>6</td>\n",
       "      <td>15</td>\n",
       "      <td>268</td>\n",
       "    </tr>\n",
       "    <tr>\n",
       "      <th>Fri</th>\n",
       "      <td>13</td>\n",
       "      <td>2</td>\n",
       "      <td>5</td>\n",
       "      <td>156</td>\n",
       "    </tr>\n",
       "  </tbody>\n",
       "</table>\n",
       "</div>"
      ],
      "text/plain": [
       "     Nuts  Peanet  Butter  Total ($)\n",
       "Mon     3       5       0         70\n",
       "Tue     7      14      16        214\n",
       "Wed     8       6       8        144\n",
       "Thu    19       6      15        268\n",
       "Fri    13       2       5        156"
      ]
     },
     "execution_count": 150,
     "metadata": {},
     "output_type": "execute_result"
    }
   ],
   "source": [
    "weekly_sales"
   ]
  },
  {
   "cell_type": "markdown",
   "id": "22887627",
   "metadata": {},
   "source": [
    "# Numpy Sorting"
   ]
  },
  {
   "cell_type": "code",
   "execution_count": 151,
   "id": "fb80b761",
   "metadata": {},
   "outputs": [],
   "source": [
    "arr_sort = np.random.randint(10, size=(5,3))"
   ]
  },
  {
   "cell_type": "code",
   "execution_count": 152,
   "id": "df84dbc0",
   "metadata": {},
   "outputs": [
    {
     "data": {
      "text/plain": [
       "array([[7, 8, 9],\n",
       "       [0, 0, 8],\n",
       "       [5, 1, 2],\n",
       "       [7, 6, 1],\n",
       "       [2, 2, 2]])"
      ]
     },
     "execution_count": 152,
     "metadata": {},
     "output_type": "execute_result"
    }
   ],
   "source": [
    "arr_sort"
   ]
  },
  {
   "cell_type": "code",
   "execution_count": 160,
   "id": "33e82372",
   "metadata": {},
   "outputs": [],
   "source": [
    "sorted = np.sort(arr_sort)"
   ]
  },
  {
   "cell_type": "code",
   "execution_count": 161,
   "id": "9a374ad3",
   "metadata": {},
   "outputs": [
    {
     "data": {
      "text/plain": [
       "array([[7, 8, 9],\n",
       "       [0, 0, 8],\n",
       "       [1, 2, 5],\n",
       "       [1, 6, 7],\n",
       "       [2, 2, 2]])"
      ]
     },
     "execution_count": 161,
     "metadata": {},
     "output_type": "execute_result"
    }
   ],
   "source": [
    "sorted"
   ]
  },
  {
   "cell_type": "code",
   "execution_count": 162,
   "id": "3c9aef2f",
   "metadata": {},
   "outputs": [],
   "source": [
    "sorted_arg = np.argsort(arr_sort)"
   ]
  },
  {
   "cell_type": "code",
   "execution_count": 163,
   "id": "d4aa5d7e",
   "metadata": {},
   "outputs": [
    {
     "data": {
      "text/plain": [
       "array([[0, 1, 2],\n",
       "       [0, 1, 2],\n",
       "       [0, 1, 2],\n",
       "       [0, 1, 2],\n",
       "       [0, 1, 2]], dtype=int64)"
      ]
     },
     "execution_count": 163,
     "metadata": {},
     "output_type": "execute_result"
    }
   ],
   "source": [
    "sorted_arg"
   ]
  },
  {
   "cell_type": "code",
   "execution_count": 165,
   "id": "e7dd973d",
   "metadata": {},
   "outputs": [
    {
     "data": {
      "text/plain": [
       "array([0, 0, 0], dtype=int64)"
      ]
     },
     "execution_count": 165,
     "metadata": {},
     "output_type": "execute_result"
    }
   ],
   "source": [
    "# giving index that which index is higher in a row\n",
    "np.argmax(sorted_arg, axis=0)"
   ]
  },
  {
   "cell_type": "code",
   "execution_count": 169,
   "id": "bb3408cb",
   "metadata": {},
   "outputs": [
    {
     "data": {
      "text/plain": [
       "array([2, 2, 2, 2, 0], dtype=int64)"
      ]
     },
     "execution_count": 169,
     "metadata": {},
     "output_type": "execute_result"
    }
   ],
   "source": [
    "# giving index that which index is higher in a row\n",
    "np.argmax(sorted, axis=1)"
   ]
  },
  {
   "cell_type": "markdown",
   "id": "7030b323",
   "metadata": {},
   "source": [
    "# Numpy in Action wtih Images"
   ]
  },
  {
   "cell_type": "code",
   "execution_count": 178,
   "id": "0c3c915f",
   "metadata": {},
   "outputs": [
    {
     "data": {
      "text/html": [
       "<img src=\"images/panda.png\" width=\"200px\" height=\"200px\" />\n"
      ],
      "text/plain": [
       "<IPython.core.display.HTML object>"
      ]
     },
     "metadata": {},
     "output_type": "display_data"
    }
   ],
   "source": [
    "%%html\n",
    "<img src=\"images/panda.png\" width=\"200px\" height=\"200px\" />"
   ]
  },
  {
   "cell_type": "code",
   "execution_count": 180,
   "id": "3a2a0683",
   "metadata": {},
   "outputs": [],
   "source": [
    "panda = imread(\"images/panda.png\")"
   ]
  },
  {
   "cell_type": "code",
   "execution_count": 182,
   "id": "cfe08257",
   "metadata": {},
   "outputs": [
    {
     "data": {
      "text/plain": [
       "(24465000, (2330, 3500, 3), 3)"
      ]
     },
     "execution_count": 182,
     "metadata": {},
     "output_type": "execute_result"
    }
   ],
   "source": [
    "panda.size, panda.shape, panda.ndim"
   ]
  },
  {
   "cell_type": "code",
   "execution_count": 183,
   "id": "28a6041e",
   "metadata": {},
   "outputs": [
    {
     "data": {
      "text/plain": [
       "array([[[0.05490196, 0.10588235, 0.06666667],\n",
       "        [0.05490196, 0.10588235, 0.06666667],\n",
       "        [0.05490196, 0.10588235, 0.06666667],\n",
       "        ...,\n",
       "        [0.16470589, 0.12941177, 0.09411765],\n",
       "        [0.16470589, 0.12941177, 0.09411765],\n",
       "        [0.16470589, 0.12941177, 0.09411765]],\n",
       "\n",
       "       [[0.05490196, 0.10588235, 0.06666667],\n",
       "        [0.05490196, 0.10588235, 0.06666667],\n",
       "        [0.05490196, 0.10588235, 0.06666667],\n",
       "        ...,\n",
       "        [0.16470589, 0.12941177, 0.09411765],\n",
       "        [0.16470589, 0.12941177, 0.09411765],\n",
       "        [0.16470589, 0.12941177, 0.09411765]],\n",
       "\n",
       "       [[0.05490196, 0.10588235, 0.06666667],\n",
       "        [0.05490196, 0.10588235, 0.06666667],\n",
       "        [0.05490196, 0.10588235, 0.06666667],\n",
       "        ...,\n",
       "        [0.16470589, 0.12941177, 0.09411765],\n",
       "        [0.16470589, 0.12941177, 0.09411765],\n",
       "        [0.16470589, 0.12941177, 0.09411765]],\n",
       "\n",
       "       ...,\n",
       "\n",
       "       [[0.13333334, 0.07450981, 0.05490196],\n",
       "        [0.12156863, 0.0627451 , 0.04313726],\n",
       "        [0.10980392, 0.05098039, 0.03137255],\n",
       "        ...,\n",
       "        [0.02745098, 0.02745098, 0.03529412],\n",
       "        [0.02745098, 0.02745098, 0.03529412],\n",
       "        [0.02745098, 0.02745098, 0.03529412]],\n",
       "\n",
       "       [[0.13333334, 0.07450981, 0.05490196],\n",
       "        [0.12156863, 0.0627451 , 0.04313726],\n",
       "        [0.12156863, 0.0627451 , 0.04313726],\n",
       "        ...,\n",
       "        [0.02352941, 0.02352941, 0.03137255],\n",
       "        [0.02352941, 0.02352941, 0.03137255],\n",
       "        [0.02352941, 0.02352941, 0.03137255]],\n",
       "\n",
       "       [[0.13333334, 0.07450981, 0.05490196],\n",
       "        [0.12156863, 0.0627451 , 0.04313726],\n",
       "        [0.12156863, 0.0627451 , 0.04313726],\n",
       "        ...,\n",
       "        [0.02352941, 0.02352941, 0.03137255],\n",
       "        [0.02352941, 0.02352941, 0.03137255],\n",
       "        [0.02352941, 0.02352941, 0.03137255]]], dtype=float32)"
      ]
     },
     "execution_count": 183,
     "metadata": {},
     "output_type": "execute_result"
    }
   ],
   "source": [
    "panda"
   ]
  },
  {
   "cell_type": "code",
   "execution_count": 15,
   "id": "3fdfd664",
   "metadata": {},
   "outputs": [
    {
     "data": {
      "image/png": "[encoded data removed]",
      "text/plain": [
       "<Figure size 1000x300 with 1 Axes>"
      ]
     },
     "metadata": {},
     "output_type": "display_data"
    }
   ],
   "source": [
    "#00 Method from scratch\n",
    "heart_discease = pd.read_csv(\"heart-disease.csv\")\n",
    "fig, ax = plt.subplots(figsize=(10,3))\n",
    "\n",
    "#plot the data\n",
    "scatter = ax.scatter(x=heart_discease[\"age\"],\n",
    "                    y=heart_discease[\"chol\"],\n",
    "                    c=heart_discease[\"target\"],\n",
    "                    cmap=\"winter\")\n",
    "\n",
    "#Customize the plot\n",
    "ax.set(title=\"Heart Disease and Cholesterol Levels\", \n",
    "      xlabel=\"Age\",\n",
    "      ylabel=\"Cholesterol\");\n",
    "\n",
    "#add a legends\n",
    "ax.legend(*scatter.legend_elements(), title=\"Target\");\n",
    "ax.axhline(heart_discease[\"chol\"].mean(), linestyle=\"--\");\n"
   ]
  },
  {
   "cell_type": "markdown",
   "id": "bec8523b",
   "metadata": {},
   "source": [
    "# See the different styles for matplot lib"
   ]
  },
  {
   "cell_type": "code",
   "execution_count": 14,
   "id": "04e8ae29",
   "metadata": {},
   "outputs": [],
   "source": [
    "plt.style.available\n",
    "plt.style.use('fivethirtyeight');"
   ]
  },
  {
   "cell_type": "code",
   "execution_count": null,
   "id": "a61c3f05",
   "metadata": {},
   "outputs": [],
   "source": []
  }
 ],
 "metadata": {
  "kernelspec": {
   "display_name": "Python 3 (ipykernel)",
   "language": "python",
   "name": "python3"
  },
  "language_info": {
   "codemirror_mode": {
    "name": "ipython",
    "version": 3
   },
   "file_extension": ".py",
   "mimetype": "text/x-python",
   "name": "python",
   "nbconvert_exporter": "python",
   "pygments_lexer": "ipython3",
   "version": "3.10.13"
  }
 },
 "nbformat": 4,
 "nbformat_minor": 5
}
